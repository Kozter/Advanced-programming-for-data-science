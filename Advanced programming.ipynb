{
 "cells": [
  {
   "cell_type": "markdown",
   "metadata": {
    "pycharm": {
     "name": "#%% md\n"
    }
   },
   "source": [
    "# PGR211 - Advanced Programming for Data science\n",
    "### Kristiania Univercity college\n",
    "### Fall 2022"
   ]
  },
  {
   "cell_type": "markdown",
   "metadata": {},
   "source": [
    "## Question 1\n",
    "\n",
    "(a) A class called Student with two instance variables, name and mark, and one class variable, passingMark with a default value of 50.\n",
    "\n",
    "(b) An instance method called passOrFail() within the Student class. This method returns the string “Pass” if mark is greater than or equal to passingMark or “Fail” if mark is lower than passingMark."
   ]
  },
  {
   "cell_type": "code",
   "execution_count": null,
   "metadata": {
    "pycharm": {
     "name": "#%%\n"
    }
   },
   "outputs": [],
   "source": [
    "# A class with two instances\n",
    "\n",
    "# a)\n",
    "class Student():\n",
    "  \"\"\"A class for student performance \"\"\"\n",
    "\n",
    "  # set the passing mark to default value\n",
    "  passingMark = 50\n",
    "\n",
    "  def __init__(self, name, mark):   # constructor that takes 2 arguments\n",
    "    \"\"\" Initialize name and age attribute \"\"\"\n",
    "\n",
    "    #setting the instance attributes to the arguments\n",
    "    self._name = name\n",
    "    self._mark = mark\n",
    "\n",
    "  def __str__(self):\n",
    "    \"\"\" Return the student class objects \"\"\"\n",
    "\n",
    "    return f'Student({self.name}, {self.mark})'\n",
    "\n",
    "# b)\n",
    "\n",
    "  def passOrFail(self):\n",
    "    \"\"\"\" Function to compare the students mark with the passing mark \"\"\"\n",
    "\n",
    "    # Determine whether mark is greater than the passing mark and display pass or fail\n",
    "    if self._mark >= Student.passingMark:\n",
    "      return \"Pass\"\n",
    "    else:\n",
    "      return \"Fail\""
   ]
  },
  {
   "cell_type": "markdown",
   "metadata": {},
   "source": [
    "(c) Instantiate a Student object called student1 with name = 'John' and mark = 52 as parameters, while using it to call the passOrFail() method. Assign the result to a variable called status1 and print the value of status1."
   ]
  },
  {
   "cell_type": "code",
   "execution_count": null,
   "metadata": {
    "pycharm": {
     "name": "#%%\n"
    }
   },
   "outputs": [],
   "source": [
    "# c)\n",
    "\n",
    "# Making an instance representing a specific student and their marks\n",
    "student1 = Student(\"John\", 52)\n",
    "\n",
    "# Assigning the instance to a variable\n",
    "status1 = student1.passOrFail()\n",
    "\n",
    "# Get the value of the assigned variable\n",
    "print(status1)"
   ]
  },
  {
   "cell_type": "markdown",
   "metadata": {},
   "source": [
    "(d) Instantiate another Student object called student2 with name = 'Jenny' and mark = 69 as parameters, and use it to call the passOrFail() method. Assign the result to a variable called status2 and print the value of status2."
   ]
  },
  {
   "cell_type": "code",
   "execution_count": null,
   "metadata": {
    "pycharm": {
     "name": "#%%\n"
    }
   },
   "outputs": [],
   "source": [
    "# d)\n",
    "\n",
    "# Making an instance representing another student and their marks\n",
    "student2 = Student(\"Jenny\", 69)\n",
    "\n",
    "# Assigning the instance to a variable\n",
    "status2 = student2.passOrFail()\n",
    "\n",
    "# Get the value of the assigned variable\n",
    "print(status2)"
   ]
  },
  {
   "cell_type": "markdown",
   "metadata": {
    "pycharm": {
     "name": "#%% md\n"
    }
   },
   "source": [
    "#### Updating the passing mark\n",
    "\n",
    "-Let the passingMark be 60 for all instances of the Student class."
   ]
  },
  {
   "cell_type": "code",
   "execution_count": null,
   "metadata": {
    "pycharm": {
     "name": "#%%\n"
    }
   },
   "outputs": [],
   "source": [
    "# Update the passmark\n",
    "Student.passingMark = 60\n",
    "\n",
    "# Assigning the instance to a variable\n",
    "status1 = student1.passOrFail()\n",
    "\n",
    "# Get the value of the assigned variable\n",
    "print(status1)"
   ]
  },
  {
   "cell_type": "code",
   "execution_count": null,
   "metadata": {
    "pycharm": {
     "name": "#%%\n"
    }
   },
   "outputs": [],
   "source": [
    "# Assigning the instance to another variable\n",
    "status2 = student2.passOrFail()\n",
    "\n",
    "# Output the result for the updated instance for student2\n",
    "print(status2)"
   ]
  },
  {
   "cell_type": "markdown",
   "metadata": {
    "pycharm": {
     "name": "#%% md\n"
    }
   },
   "source": [
    "## Question 2\n",
    "\n",
    "A Message class that consist of the following and a program that uses the class to make a message.\n",
    "\n",
    "✓ A constructor that takes the sender and recipient\n",
    "\n",
    "✓ A method get_sender that returns the sender’s name\n",
    "\n",
    "✓ A method get_recipient that returns the recipient’s name\n",
    "\n",
    "✓ A method append that appends a line of text to the message body\n",
    "\n",
    "✓ A method toString that makes the message into one long string like this:\n",
    "\"From: Harry Morgan\\nTo: Rudolf Reindeer\\n . . .\"\n",
    "\n",
    "-Write a program that uses this class to make a message and print it."
   ]
  },
  {
   "cell_type": "code",
   "execution_count": null,
   "metadata": {
    "pycharm": {
     "name": "#%%\n"
    }
   },
   "outputs": [],
   "source": [
    "# Modelling an e-mail message:\n",
    "\n",
    "class Message():\n",
    "  \"\"\" A simple attempt to model an e-mail message \"\"\"\n",
    "\n",
    "  def __init__(self, sender, recipient):  # constructor that takes 2 arguments\n",
    "    \"\"\" Initialize attributes to describe the message \"\"\"\n",
    "\n",
    "    self.recipient = recipient\n",
    "    self.sender = sender\n",
    "\n",
    "  def get_sender(self):\n",
    "    \"\"\" A function that returns the sender's name \"\"\"\n",
    "\n",
    "    return f'{self.sender.title()}'\n",
    "\n",
    "  def get_recipient(self):\n",
    "    \"\"\" A function that returns the recipient's name \"\"\"\n",
    "\n",
    "    return f'{self.recipient.title()}'\n",
    "\n",
    "  def get_append(self, message):\n",
    "    \"\"\" A function that appends a line of text to the message body \"\"\"\n",
    "\n",
    "    # Declare an empty list and insert the message body to it\n",
    "    messages = []\n",
    "    messages.append(message)\n",
    "    return f'Dear {self.recipient.title()},\\n{message}'\n",
    "\n",
    "  def toString(self):\n",
    "    \"\"\" A function that makes the message into one long string \"\"\"\n",
    "\n",
    "    return f'\\nFrom: {self.get_sender()} \\nTo:   {self.get_recipient()} \\n\\n{self.get_append(body)}\\n\\n\\nRegards,\\n{self.get_sender()}'\n"
   ]
  },
  {
   "cell_type": "code",
   "execution_count": null,
   "metadata": {
    "pycharm": {
     "name": "#%%\n"
    }
   },
   "outputs": [],
   "source": [
    "# A program that uses the Message class\n",
    "\n",
    "# create an e-mail object\n",
    "\n",
    "body = \"\"\"We’re reaching out because it has come to our attention that you have not yet\n",
    "completed the current module's Quiz. To make the most of your learning journey,\n",
    "it is imperative that you keep up with all quizzes, tasks, and assignments.\"\"\"\n",
    "\n",
    "email = Message('josh brown', 'toy bruce')\n",
    "display_email = email.toString()\n",
    "\n",
    "print(display_email)"
   ]
  },
  {
   "cell_type": "code",
   "execution_count": null,
   "metadata": {
    "pycharm": {
     "name": "#%%\n"
    }
   },
   "outputs": [],
   "source": [
    "# A program that takes user's input and use the Message class\n",
    "\n",
    "def main():\n",
    "  \"\"\" A function that takes user input and displays the email message\"\"\"\n",
    "\n",
    "  sender = input(\"Enter sender's name: \")\n",
    "  recipient = input(\"Enter recipient's name: \")\n",
    "\n",
    "  # make the userinput to be accessible by the get_append function\n",
    "  global body\n",
    "\n",
    "  # Ask for user input\n",
    "  body = input(\"Enter message content: \")\n",
    "\n",
    "  # create an e-mail instance\n",
    "  my_email = Message(sender, recipient)\n",
    "  display_email = my_email.toString()\n",
    "\n",
    "  # print a statement describing the e-mail content\n",
    "  print(\"\\n...........................................................\")\n",
    "  print(display_email)\n"
   ]
  },
  {
   "cell_type": "code",
   "execution_count": null,
   "metadata": {
    "pycharm": {
     "name": "#%%\n"
    }
   },
   "outputs": [],
   "source": [
    "# run the program\n",
    "\n",
    "if __name__ == '__main__':\n",
    "    main()"
   ]
  },
  {
   "cell_type": "markdown",
   "metadata": {
    "pycharm": {
     "name": "#%% md\n"
    }
   },
   "source": [
    "## Question 3\n",
    "\n",
    "(a) Make a class Employee with a name and salary. Make a class Manager that inherits from Employee. Add an instance variable, named department, to the Manager class that stores a string.\n",
    "\n",
    "(b) Supply a method `_ _repr_ _` that prints the manager’s name, department, and salary.\n",
    "\n",
    "#### Note that you need to use `_ _ repr_ _` method in the Employee class to print the name and salary.\n",
    "\n",
    "-Write a program that uses these classes to create a manager object and print its information.\n"
   ]
  },
  {
   "cell_type": "code",
   "execution_count": null,
   "metadata": {
    "pycharm": {
     "name": "#%%\n"
    }
   },
   "outputs": [],
   "source": [
    "# parent class called Employee\n",
    "\n",
    "class Employee():\n",
    "  \"\"\" A program that model employees information \"\"\"\n",
    "\n",
    "  # initialize attributes to describe the employees\n",
    "  def __init__(self, name, salary):\n",
    "    self.name = name\n",
    "    self.salary = salary\n",
    "\n",
    "  def __repr__(self):\n",
    "\n",
    "    return f\"Employee's Name: {self.name.title()} \\nEmployee's Salary: ${self.salary}\"\n",
    "\n",
    "# child class called Manager where the parent class is embeded\n",
    "\n",
    "class  Manager(Employee):\n",
    "  \"\"\" Represent aspect of the Employee, specific to Manager \"\"\"\n",
    "\n",
    "  def __init__(self, name, salary, department):\n",
    "\n",
    "    # make connection between the Employee and Manager class\n",
    "    super().__init__(name, salary)\n",
    "    self.department = department\n",
    "\n",
    "  def __repr__(self):\n",
    "\n",
    "    return f\"Manager's Name: {self.name.title()} \\nManager's Salary: ${self.salary} \\nDepartment: {self.department.title()}\"\n"
   ]
  },
  {
   "cell_type": "code",
   "execution_count": null,
   "metadata": {
    "pycharm": {
     "name": "#%%\n"
    }
   },
   "outputs": [],
   "source": [
    "# program that uses the classes to create a manager object and print its information.\n",
    "\n",
    "# Create an instance of the manager  information\n",
    "\n",
    "manager_info = Manager(\"john\", 3000, 'sales')\n",
    "print(manager_info)"
   ]
  },
  {
   "cell_type": "markdown",
   "metadata": {
    "pycharm": {
     "name": "#%% md\n"
    }
   },
   "source": [
    "## Question 4\n",
    "\n",
    "A program that asks a user to type in two strings and that prints\n",
    "\n",
    "(a) the characters that occur in both strings.\n",
    "\n",
    "(b) the characters that occur in one string but not the other.\n",
    "\n",
    "(c) the letters that don’t occur in either string."
   ]
  },
  {
   "cell_type": "code",
   "execution_count": null,
   "metadata": {
    "pycharm": {
     "name": "#%%\n"
    }
   },
   "outputs": [],
   "source": [
    "# Declare a class to model the string character\n",
    "\n",
    "class Character():\n",
    "  \"\"\" A simple attempt to model a string character \"\"\"\n",
    "\n",
    "  def __init__(self, first_char, second_char):  # constructor that takes 2 arguments\n",
    "    \"\"\" Initialize attributes for the string \"\"\"\n",
    "\n",
    "    self.first_char = first_char\n",
    "    self.second_char = second_char\n",
    "\n",
    "  # A funcion that defines characters that occur in both strings\n",
    "  def shared_char(self):\n",
    "    \"\"\" A function that returns the shared character \"\"\"\n",
    "\n",
    "    print(\"\\nShared Character:\")\n",
    "\n",
    "    # define the intersetion character to find the shared character\n",
    "    intersect =  [x for x in set(self.first_char).intersection(self.second_char)]\n",
    "\n",
    "    # loop through the set and output the unique character\n",
    "    for char in intersect:\n",
    "      print(char, end = ',')\n",
    "\n",
    "  # A function that defines characters that occur in one string but not the other\n",
    "  def unique_character(self):\n",
    "    \"\"\" A function that defined the unique character in each string\"\"\"\n",
    "\n",
    "    print(\"\\nUnique characters: \")\n",
    "\n",
    "    # define the symmetric difference to find the unique character\n",
    "    difference =  [x for x in set(self.first_char).symmetric_difference(self.second_char)]\n",
    "\n",
    "    # loop through the set and output the unique character\n",
    "    for char in difference:\n",
    "      print(char, end = ',')\n",
    "\n",
    "  # A function that shows the letters that don’t occur in either string\n",
    "\n",
    "  def non_occuring_character(self):\n",
    "    \"\"\"Function that define the letters that don’t occur in either string.\"\"\"\n",
    "\n",
    "    print(\"\\nNon-occuring alphabet letters:\")\n",
    "\n",
    "    # define the compliment to find the non-occuring character\n",
    "    union =  [x for x in set(self.first_char).union(self.second_char)]\n",
    "\n",
    "    # initialize an empty list that will contain all the lowercase alphabets\n",
    "    alphabets_in_lowercase = []\n",
    "    for i in range(97,123):\n",
    "      alphabets_in_lowercase.append(chr(i))\n",
    "\n",
    "    # loop through the variable union and display the complement character\n",
    "    for char in set(union).symmetric_difference(alphabets_in_lowercase):\n",
    "      print(char, end = ',')"
   ]
  },
  {
   "cell_type": "code",
   "execution_count": null,
   "metadata": {
    "pycharm": {
     "name": "#%%\n"
    }
   },
   "outputs": [],
   "source": [
    "# A program that takes user's input and use the Character class and its functions\n",
    "\n",
    "def main():\n",
    "  \"\"\" A function that takes user input and displays string characteristics\"\"\"\n",
    "\n",
    "   # Ask for user input\n",
    "  first_char = input(\"Enter the first string : \")\n",
    "  first_char = first_char.lower().strip()\n",
    "  second_char = input(\"Enter the second string: \")\n",
    "  second_char = second_char.lower().strip()\n",
    "\n",
    "  # create a string instance of shared character\n",
    "  my_string = Character(first_char, second_char)\n",
    "  shared_str = my_string.shared_char()\n",
    "\n",
    "  # create a string instance of unique character\n",
    "  unique_str = my_string.unique_character()\n",
    "\n",
    "  # create a string instance of the non-occuring character\n",
    "  complement_str = my_string.non_occuring_character()"
   ]
  },
  {
   "cell_type": "code",
   "execution_count": null,
   "metadata": {
    "pycharm": {
     "name": "#%%\n"
    }
   },
   "outputs": [],
   "source": [
    "# run the program\n",
    "if __name__ == '__main__':\n",
    "    main()"
   ]
  },
  {
   "cell_type": "markdown",
   "metadata": {
    "pycharm": {
     "name": "#%% md\n"
    }
   },
   "source": [
    "## Question 5\n",
    "### Functional programming:\n",
    "Functional programming languages treat tasks to be accomplished in terms of mathematical functions. It helps in making the complex task explicitly simple. For example, we can define the function f(x)  =  2x + 5. This function f(x) transform any given argument like say, 7, into 19. So in functional programming, for every input, we think of a corresponding output.\n",
    "\n",
    "The three best practices in functional programming are:\n",
    "\n",
    "- Function should accept at least one argument.\n",
    "\n",
    "- functions should return data, or another function.\n",
    "\n",
    "- Avoid the use of loop\n",
    "\n",
    "In a functional programming language, in addition to the language's built-in fundamental functions, new functions can be defined by the programmer.\n",
    "\n",
    "As a result, data is treated as immutable in functional programming, meaning that if we want to change it, we return a new version of the data instead of the original. The same value is returned for the same argument by functions, who behave as though it is their first time.\n",
    "\n",
    "Finally, the advanatges of functional programming is the ease in debugging our program and the reusability of the code."
   ]
  },
  {
   "cell_type": "markdown",
   "metadata": {},
   "source": [
    "#### Example 1:\n",
    "-Lets consider a program that gives the factorial of integers:"
   ]
  },
  {
   "cell_type": "code",
   "execution_count": null,
   "metadata": {
    "pycharm": {
     "name": "#%%\n"
    }
   },
   "outputs": [],
   "source": [
    "def factorial_r(n):\n",
    "  if n == 0:\n",
    "    return 1\n",
    "  else:\n",
    "    return n * factorial_r(n-1)\n",
    "\n",
    "factorial_r(5)"
   ]
  },
  {
   "cell_type": "markdown",
   "metadata": {
    "pycharm": {
     "name": "#%% md\n"
    }
   },
   "source": [
    "#### Example 2:\n",
    "-Lets consider a program following these lambda functions:\n",
    "- A lambda function that takes three integer or float parameters and returns their sum.\n",
    "- A lambda function that takes two string parameters and returns the maximum of their lengths.\n",
    "- A lambda function that takes two lost parameters and returns a set containing the elements from both lists."
   ]
  },
  {
   "cell_type": "code",
   "execution_count": null,
   "metadata": {
    "pycharm": {
     "name": "#%%\n"
    }
   },
   "outputs": [],
   "source": [
    "add_values = lambda x, y, z : sum([x, y, z])\n",
    "max_length = lambda x, y: max(len(x), len(y))\n",
    "create_set = lambda x, y: set(x) | set(y)"
   ]
  },
  {
   "cell_type": "code",
   "execution_count": null,
   "metadata": {
    "pycharm": {
     "name": "#%%\n"
    }
   },
   "outputs": [],
   "source": [
    "add_values(5, 7, 8)"
   ]
  },
  {
   "cell_type": "code",
   "execution_count": null,
   "metadata": {
    "pycharm": {
     "name": "#%%\n"
    }
   },
   "outputs": [],
   "source": [
    "max_length(\"hello\", \"python\")"
   ]
  },
  {
   "cell_type": "code",
   "execution_count": null,
   "metadata": {
    "pycharm": {
     "name": "#%%\n"
    }
   },
   "outputs": [],
   "source": [
    "create_set([1, 2, 3, 5], [1, 2, 4, 3, 2, 5])"
   ]
  },
  {
   "cell_type": "markdown",
   "metadata": {
    "pycharm": {
     "name": "#%% md\n"
    }
   },
   "source": [
    "#### Example 3:\n",
    "-Lets consider the map and filter function to create an iterable that contains the even squares of all elements in the list with the use of lambda for any function."
   ]
  },
  {
   "cell_type": "code",
   "execution_count": null,
   "metadata": {
    "pycharm": {
     "name": "#%%\n"
    }
   },
   "outputs": [],
   "source": [
    "list = [1, 2, 3, 4, 5, 6]\n",
    "\n",
    "# map object which contains the squares from our original list\n",
    "squares = map(lambda x: x ** 2, list)\n",
    "\n",
    "# filter object so we can have the even squares\n",
    "even_squares = filter(lambda x: x % 2 == 0, squares)\n",
    "\n",
    "for value in even_squares:\n",
    "    print(value)"
   ]
  },
  {
   "cell_type": "markdown",
   "metadata": {},
   "source": [
    "## Question 6"
   ]
  },
  {
   "cell_type": "markdown",
   "metadata": {
    "pycharm": {
     "name": "#%% md\n"
    }
   },
   "source": [
    "### Iterators\n",
    "##### Can be described as a  bookmark of a book. The whole pages are iterable, and the bookmark is the iterator. This bookmark has nothing to do except move the next item in the iterator. Hence, we can say that an iterator is an object that can be iterated upon, which implies that we can traverse through all their values."
   ]
  },
  {
   "cell_type": "markdown",
   "metadata": {
    "pycharm": {
     "name": "#%% md\n"
    }
   },
   "source": [
    "#### Example:\n",
    "-In the following example, we want to make a class-based iterator that is initialized by passing three integer values, a start, stop and step. The iterator should mimic the range function in functionality but always accept three integer values.\n",
    "\n",
    "-We assume all three initialization values will always be integers, and the step will never be zero."
   ]
  },
  {
   "cell_type": "code",
   "execution_count": null,
   "metadata": {
    "pycharm": {
     "name": "#%%\n"
    }
   },
   "outputs": [],
   "source": [
    "class Range:\n",
    "    def __init__(self, start, stop, step):\n",
    "        self.start = start\n",
    "        self.stop = stop\n",
    "        self.step = step\n",
    "\n",
    "    # method to create the iterator\n",
    "    def __iter__(self):\n",
    "        self.current_value = self.start\n",
    "        return self\n",
    "\n",
    "    # method to return the next item for the iteration\n",
    "    def __next__(self):\n",
    "        if self.step > 0 and self.current_value >= self.stop:\n",
    "            raise StopIteration\n",
    "        elif self.step < 0 and self.current_value <= self.stop:\n",
    "            raise StopIteration\n",
    "\n",
    "        self.current_value += self.step\n",
    "\n",
    "        return self.current_value - self.step\n",
    "\n",
    "r = Range(3, 8, 2)\n",
    "for x in r:\n",
    "  print(x)"
   ]
  },
  {
   "cell_type": "markdown",
   "metadata": {
    "pycharm": {
     "name": "#%% md\n"
    }
   },
   "source": [
    "#### Why use iterators?\n",
    "Iterators enable us to get the next element in the list without re-calculating all previous elements, saving us a lot of memory and CPU time.\n",
    "\n",
    "#### A few examples of built-in classes that are iterators that come with Python:\n",
    "- Enumerate\n",
    "- Map\n",
    "- Filter\n",
    "- Zip\n",
    "- Reversed objects"
   ]
  },
  {
   "cell_type": "markdown",
   "metadata": {
    "pycharm": {
     "name": "#%% md\n"
    }
   },
   "source": [
    "### Generators\n",
    "##### Can be described as a list comprehension that contains yield statements just as functions have return statements. Generators give us a sequence of values that can be iterated upon using loops.\n",
    "-Prefered by most modern programmers over iterators due to increased readability and conciseness."
   ]
  },
  {
   "cell_type": "markdown",
   "metadata": {},
   "source": [
    "#### Example:\n",
    "-In the following example, we want to make a generator that is initialized by passing three integer values, a start, stop and step. The generator should mimic the range function in functionality but always accept three integer values.\n",
    "\n",
    "-We will assume that all three initialization values will always be integers and that the step will never be zero."
   ]
  },
  {
   "cell_type": "code",
   "execution_count": null,
   "metadata": {
    "pycharm": {
     "name": "#%%\n"
    }
   },
   "outputs": [],
   "source": [
    "def range(start, stop, step):\n",
    "    current = start\n",
    "\n",
    "    while True:\n",
    "        if step < 0 and current <= stop:\n",
    "            break\n",
    "        if step > 0 and current >= stop:\n",
    "            break\n",
    "\n",
    "        yield current\n",
    "        current += step\n",
    "\n",
    "\n",
    "r = range(3, 8, 2)\n",
    "for x in r:\n",
    "  print(x)"
   ]
  },
  {
   "cell_type": "markdown",
   "metadata": {},
   "source": [
    "#### Why use generators?\n",
    "Generators introduce the yield statement to Python, which works like a return, as it returns a value. The difference is - that it saves the state of the function. When the function is called next time, the execution continues from where it left off, with the same variable values it had before yielding.\n",
    "\n",
    "- Generator functions allow us to create iterators clearly and concisely.\n",
    "- Easy to implement\n",
    "- Memory efficient"
   ]
  },
  {
   "cell_type": "markdown",
   "metadata": {
    "pycharm": {
     "name": "#%% md\n"
    }
   },
   "source": [
    "### Decorators\n",
    "##### A function that accepts a function as a parameter and returns a function, which could be used in performing some additional processing required by a function. Decorators can be valuable and extremely useful as they allow the extension of an existing function without any modification to the source code since it allows programmers to modify/control the behavior of a function or class.\n",
    "-A particular @ notation indicates that a function should be wrapped by one or more decorators."
   ]
  },
  {
   "cell_type": "markdown",
   "metadata": {
    "pycharm": {
     "name": "#%% md\n"
    }
   },
   "source": [
    "#### Example:\n",
    "-In the following example, we want to make a decorator function that adds one to the return value of any function it decorates. Then use this function to decorate the other function.\n",
    "\n",
    "-We will assume in this example, that the passed arguments will always be integers."
   ]
  },
  {
   "cell_type": "code",
   "execution_count": null,
   "metadata": {
    "pycharm": {
     "name": "#%%\n"
    }
   },
   "outputs": [],
   "source": [
    "# with the use of args and kwargs instead of x, y in the wrapper\n",
    "# the decorator can now be used for any single function since we can accept any number of positional arguments and any number of key-word arguments\n",
    "def add_number(function):\n",
    "    def wrapper(*args, **kwargs):\n",
    "        return_value = function(*args, **kwargs)\n",
    "        return return_value + 1\n",
    "\n",
    "    return wrapper\n",
    "\n",
    "# decorator notation\n",
    "@add_number\n",
    "def values(x, y):\n",
    "    return x + y\n",
    "\n",
    "# return x, y value + add number\n",
    "values(5,5)"
   ]
  },
  {
   "cell_type": "markdown",
   "metadata": {
    "pycharm": {
     "name": "#%% md\n"
    }
   },
   "source": [
    "#### Why use decorators?\n",
    "Decorators can be used for different reasons, but the main thing would be readability. Just as Python is known to be clear and concise, decorators are no exception.\n",
    "\n",
    "If any behavior is common to more than one function, you should most likely make a decorator.\n",
    "#### A few examples of the use of decorators:\n",
    "\n",
    "Check arguments type at runtime\n",
    "Benchmark function calls\n",
    "Cache function results\n",
    "Count function calls\n",
    "Check metadata (permissions, roles, etc.)"
   ]
  },
  {
   "cell_type": "markdown",
   "metadata": {
    "pycharm": {
     "name": "#%% md\n"
    }
   },
   "source": [
    "#### Summary\n",
    "Generators, iterators, and decorators are all objects that allow you to iterate over a sequence of values.\n",
    "\n",
    "- Generators allow you to create your custom iterator, while iterators are used to create iterators that return a sequence of values. Generators are similar to iterators because they enable you to iterate over a sequence of values. However, generators are different because they allow you to create your custom iterator.\n",
    "\n",
    "- Decorators allow you to modify a function or class.\n",
    "\n",
    "- Iterators are used to create iterators that return a sequence of values. Decorators are similar to generators because they allow you to iterate over a sequence of values. However, decorators are different because they enable you to modify a function or class."
   ]
  },
  {
   "cell_type": "markdown",
   "metadata": {},
   "source": [
    "In conclusion, generators, iterators, and decorators are all objects that allow you to iterate over a sequence of values. Generators allow you to create your custom iterator. In contrast, iterators are used to create iterators that return a sequence of values, and lastly, decorators will enable you to modify a function or class."
   ]
  },
  {
   "cell_type": "markdown",
   "metadata": {},
   "source": [
    "# References\n",
    "- GeeksforGeeks. 2022. \"Python OOPs Concepts\". Accessed: 4.December.2022.\n",
    "https://www.geeksforgeeks.org/python-oops-concepts/\n",
    "- Laggarwal, Nikhi. 2021. \"Functional Programming in Python\". Accessed: 28.November.2022.\n",
    "https://www.geeksforgeeks.org/functional-programming-in-python/\n",
    "- Team, T.A.I. 2022. \"Advanced Concepts in Python — I\". Accessed: 2.December.2022.\n",
    "https://towardsai.net/p/l/advanced-concepts-in-python%E2%80%8A-%E2%80%8Ai?amp=1&fbclid=IwAR1ogehasdoZJTrnAz6O4FgtjkEoYskgwZiYrs_EvKtnNG1aXZE7zFohZag\n",
    "- Sturtz, John. 2022. \"Functional programming in python: When and how to use it\". Accessed: 25.November.2022.\n",
    "https://realpython.com/python-functional-programming/"
   ]
  }
 ],
 "metadata": {
  "kernelspec": {
   "display_name": "Python 3 (ipykernel)",
   "language": "python",
   "name": "python3"
  },
  "language_info": {
   "codemirror_mode": {
    "name": "ipython",
    "version": 3
   },
   "file_extension": ".py",
   "mimetype": "text/x-python",
   "name": "python",
   "nbconvert_exporter": "python",
   "pygments_lexer": "ipython3",
   "version": "3.9.6"
  }
 },
 "nbformat": 4,
 "nbformat_minor": 1
}
